{
 "cells": [
  {
   "cell_type": "code",
   "execution_count": 1,
   "id": "0784ffce-cead-4d15-99af-da86f37d1cef",
   "metadata": {},
   "outputs": [
    {
     "data": {
      "text/html": [
       "<div>\n",
       "<style scoped>\n",
       "    .dataframe tbody tr th:only-of-type {\n",
       "        vertical-align: middle;\n",
       "    }\n",
       "\n",
       "    .dataframe tbody tr th {\n",
       "        vertical-align: top;\n",
       "    }\n",
       "\n",
       "    .dataframe thead th {\n",
       "        text-align: right;\n",
       "    }\n",
       "</style>\n",
       "<table border=\"1\" class=\"dataframe\">\n",
       "  <thead>\n",
       "    <tr style=\"text-align: right;\">\n",
       "      <th></th>\n",
       "      <th>age</th>\n",
       "      <th>workclass</th>\n",
       "      <th>education</th>\n",
       "      <th>maritalstatus</th>\n",
       "      <th>occupation</th>\n",
       "      <th>relationship</th>\n",
       "      <th>race</th>\n",
       "      <th>sex</th>\n",
       "      <th>capitalgain</th>\n",
       "      <th>capitalloss</th>\n",
       "      <th>hoursperweek</th>\n",
       "      <th>nativecountry</th>\n",
       "      <th>over50k</th>\n",
       "    </tr>\n",
       "  </thead>\n",
       "  <tbody>\n",
       "    <tr>\n",
       "      <th>0</th>\n",
       "      <td>39</td>\n",
       "      <td>State-gov</td>\n",
       "      <td>Bachelors</td>\n",
       "      <td>Never-married</td>\n",
       "      <td>Adm-clerical</td>\n",
       "      <td>Not-in-family</td>\n",
       "      <td>White</td>\n",
       "      <td>Male</td>\n",
       "      <td>2174</td>\n",
       "      <td>0</td>\n",
       "      <td>40</td>\n",
       "      <td>United-States</td>\n",
       "      <td>&lt;=50K</td>\n",
       "    </tr>\n",
       "    <tr>\n",
       "      <th>1</th>\n",
       "      <td>50</td>\n",
       "      <td>Self-emp-not-inc</td>\n",
       "      <td>Bachelors</td>\n",
       "      <td>Married-civ-spouse</td>\n",
       "      <td>Exec-managerial</td>\n",
       "      <td>Husband</td>\n",
       "      <td>White</td>\n",
       "      <td>Male</td>\n",
       "      <td>0</td>\n",
       "      <td>0</td>\n",
       "      <td>13</td>\n",
       "      <td>United-States</td>\n",
       "      <td>&lt;=50K</td>\n",
       "    </tr>\n",
       "    <tr>\n",
       "      <th>2</th>\n",
       "      <td>38</td>\n",
       "      <td>Private</td>\n",
       "      <td>HS-grad</td>\n",
       "      <td>Divorced</td>\n",
       "      <td>Handlers-cleaners</td>\n",
       "      <td>Not-in-family</td>\n",
       "      <td>White</td>\n",
       "      <td>Male</td>\n",
       "      <td>0</td>\n",
       "      <td>0</td>\n",
       "      <td>40</td>\n",
       "      <td>United-States</td>\n",
       "      <td>&lt;=50K</td>\n",
       "    </tr>\n",
       "    <tr>\n",
       "      <th>3</th>\n",
       "      <td>53</td>\n",
       "      <td>Private</td>\n",
       "      <td>11th</td>\n",
       "      <td>Married-civ-spouse</td>\n",
       "      <td>Handlers-cleaners</td>\n",
       "      <td>Husband</td>\n",
       "      <td>Black</td>\n",
       "      <td>Male</td>\n",
       "      <td>0</td>\n",
       "      <td>0</td>\n",
       "      <td>40</td>\n",
       "      <td>United-States</td>\n",
       "      <td>&lt;=50K</td>\n",
       "    </tr>\n",
       "    <tr>\n",
       "      <th>4</th>\n",
       "      <td>28</td>\n",
       "      <td>Private</td>\n",
       "      <td>Bachelors</td>\n",
       "      <td>Married-civ-spouse</td>\n",
       "      <td>Prof-specialty</td>\n",
       "      <td>Wife</td>\n",
       "      <td>Black</td>\n",
       "      <td>Female</td>\n",
       "      <td>0</td>\n",
       "      <td>0</td>\n",
       "      <td>40</td>\n",
       "      <td>Cuba</td>\n",
       "      <td>&lt;=50K</td>\n",
       "    </tr>\n",
       "  </tbody>\n",
       "</table>\n",
       "</div>"
      ],
      "text/plain": [
       "   age          workclass   education        maritalstatus  \\\n",
       "0   39          State-gov   Bachelors        Never-married   \n",
       "1   50   Self-emp-not-inc   Bachelors   Married-civ-spouse   \n",
       "2   38            Private     HS-grad             Divorced   \n",
       "3   53            Private        11th   Married-civ-spouse   \n",
       "4   28            Private   Bachelors   Married-civ-spouse   \n",
       "\n",
       "           occupation    relationship    race      sex  capitalgain  \\\n",
       "0        Adm-clerical   Not-in-family   White     Male         2174   \n",
       "1     Exec-managerial         Husband   White     Male            0   \n",
       "2   Handlers-cleaners   Not-in-family   White     Male            0   \n",
       "3   Handlers-cleaners         Husband   Black     Male            0   \n",
       "4      Prof-specialty            Wife   Black   Female            0   \n",
       "\n",
       "   capitalloss  hoursperweek   nativecountry over50k  \n",
       "0            0            40   United-States   <=50K  \n",
       "1            0            13   United-States   <=50K  \n",
       "2            0            40   United-States   <=50K  \n",
       "3            0            40   United-States   <=50K  \n",
       "4            0            40            Cuba   <=50K  "
      ]
     },
     "execution_count": 1,
     "metadata": {},
     "output_type": "execute_result"
    }
   ],
   "source": [
    "import pandas as pd #importing the Pandas\n",
    "df=pd.read_csv('census.csv')#Reading the data from the census file by importing pandas\n",
    "df.head()#displays the title"
   ]
  },
  {
   "cell_type": "code",
   "execution_count": null,
   "id": "7e466f0e-66c6-499a-bdb9-a31222280dda",
   "metadata": {},
   "outputs": [],
   "source": [
    "#People of race are represented and race name as the index labels\n",
    "df.groupby('race')['race'].count()"
   ]
  },
  {
   "cell_type": "code",
   "execution_count": 47,
   "id": "35383f39-cb04-48ad-a2d0-c34b1c3d90c6",
   "metadata": {},
   "outputs": [
    {
     "name": "stderr",
     "output_type": "stream",
     "text": [
      "C:\\Users\\janan\\AppData\\Local\\Temp\\ipykernel_40260\\1908654320.py:2: FutureWarning: Series.__getitem__ treating keys as positions is deprecated. In a future version, integer keys will always be treated as labels (consistent with DataFrame behavior). To access a value by position, use `ser.iloc[pos]`\n",
      "  round(df.groupby('sex')['age'].mean()[1], 1)\n"
     ]
    },
    {
     "data": {
      "text/plain": [
       "39.4"
      ]
     },
     "execution_count": 47,
     "metadata": {},
     "output_type": "execute_result"
    }
   ],
   "source": [
    "#average age of men\n",
    "round(df.groupby('sex')['age'].mean()[1], 1)"
   ]
  },
  {
   "cell_type": "code",
   "execution_count": 5,
   "id": "cbe30ae1-0589-4a37-8dd9-418e4c753536",
   "metadata": {},
   "outputs": [
    {
     "data": {
      "text/plain": [
       "16.3"
      ]
     },
     "execution_count": 5,
     "metadata": {},
     "output_type": "execute_result"
    }
   ],
   "source": [
    "#percentage of bachelors\n",
    "round((df['education'].str.strip().value_counts(normalize=True).loc['Bachelors']) * 100, 1)"
   ]
  },
  {
   "cell_type": "code",
   "execution_count": 34,
   "id": "7458e2ff-5f7f-4b1e-a876-e26714c137e6",
   "metadata": {},
   "outputs": [
    {
     "name": "stdout",
     "output_type": "stream",
     "text": [
      "Number of individuals with advanced education in the dataser 7274\n",
      "Number of individuals with advanced education in the dataset 3878\n",
      "Percentage of people with advanced education making less than 50k: 53.31317019521584\n",
      "Percentage of people with advanced education making more than 50k: 46.68682980478416\n"
     ]
    }
   ],
   "source": [
    "#higher education #morethan50k #lessthan50k #Bachelors #Masters #Doctorate\n",
    "advanced_education = df[df['education'].isin([' Bachelors', ' Masters', ' Doctorate'])]\n",
    "print(\"Number of individuals with advanced education in the dataser\",len(advanced_education))\n",
    "# Check if there are individuals with advanced education \n",
    "if len(advanced_education) == 0:\n",
    "    print(\"There are no individuals with advanced education in the dataset.\")\n",
    "else:\n",
    "    # Filter further for those making less than equal to50k\n",
    "    high_income_advanced_edu = advanced_education[advanced_education['over50k'] ==' <=50K']\n",
    "    print(\"Number of individuals with advanced education in the dataset\",len(high_income_advanced_edu))\n",
    "    # Calculate the percentage\n",
    "    percentage_high_income_advanced_edu = (len(high_income_advanced_edu) / len(advanced_education)) * 100\n",
    " #printing the percentage less than 50k     \n",
    "    print(\"Percentage of people with advanced education making less than 50k:\", percentage_high_income_advanced_edu)\n",
    "    # Filter further for those making more than 50k\n",
    "    high_income_advanced_edu = advanced_education[advanced_education['over50k'] == ' >50K']\n",
    "    \n",
    "    # Calculate the percentage\n",
    "    percentage_high_income_advanced_edu = (len(high_income_advanced_edu) / len(advanced_education)) * 100\n",
    "   #printing the percentage more than 50k \n",
    "    print(\"Percentage of people with advanced education making more than 50k:\", percentage_high_income_advanced_edu)"
   ]
  },
  {
   "cell_type": "code",
   "execution_count": 36,
   "id": "cdc66f02-1b3f-4996-b386-bb791e28317e",
   "metadata": {},
   "outputs": [
    {
     "data": {
      "text/plain": [
       "1"
      ]
     },
     "execution_count": 36,
     "metadata": {},
     "output_type": "execute_result"
    }
   ],
   "source": [
    "#minimum number of hours a person works in the week\n",
    "df['hoursperweek'].min()"
   ]
  },
  {
   "cell_type": "code",
   "execution_count": 37,
   "id": "892ab6e5-b492-48f5-815e-75a7d1b16680",
   "metadata": {},
   "outputs": [
    {
     "name": "stdout",
     "output_type": "stream",
     "text": [
      "Percentage of people who work the minimum number of hours per week and have a salary of more than 50k: 11.11111111111111\n"
     ]
    }
   ],
   "source": [
    "# Find the minimum number of hours worked per week\n",
    "min_hours_per_week = df['hoursperweek'].min()\n",
    "\n",
    "# Filter the data for individuals working the minimum number of hours per week\n",
    "min_hours_workers = df[df['hoursperweek'] == min_hours_per_week]\n",
    "\n",
    "# Filter further for those making more than 50k\n",
    "high_income_min_hours_workers = min_hours_workers[min_hours_workers['over50k'] == ' >50K']\n",
    "\n",
    "# Calculate the percentage\n",
    "percentage_high_income_min_hours = (len(high_income_min_hours_workers) / len(min_hours_workers)) * 100\n",
    "\n",
    "print(\"Percentage of people who work the minimum number of hours per week and have a salary of more than 50k:\", percentage_high_income_min_hours)"
   ]
  },
  {
   "cell_type": "code",
   "execution_count": 40,
   "id": "c8d6b7c1-2310-4caa-b7f7-7c2e62d394fc",
   "metadata": {},
   "outputs": [
    {
     "name": "stdout",
     "output_type": "stream",
     "text": [
      "Country with the highest percentage of people earning >50K:  Iran\n",
      "Percentage: 41.86046511627907\n"
     ]
    }
   ],
   "source": [
    "# Group the data by country and count the number of individuals in each group\n",
    "country_counts = df.groupby('nativecountry')['over50k'].value_counts().unstack().fillna(0)\n",
    "\n",
    "# Calculate the percentage of people earning >50K for each country\n",
    "country_counts['percentage_high_income'] = (country_counts[' >50K'] / (country_counts[' <=50K'] + country_counts[' >50K'])) * 100\n",
    "\n",
    "# Find the country with the highest percentage of people earning >50K\n",
    "highest_percentage_country = country_counts['percentage_high_income'].idxmax()\n",
    "highest_percentage = country_counts.loc[highest_percentage_country, 'percentage_high_income']\n",
    "\n",
    "print(\"Country with the highest percentage of people earning >50K:\", highest_percentage_country)\n",
    "print(\"Percentage:\", highest_percentage)"
   ]
  },
  {
   "cell_type": "code",
   "execution_count": 46,
   "id": "45005055-9eff-4b30-9282-44daa95580ae",
   "metadata": {},
   "outputs": [
    {
     "name": "stdout",
     "output_type": "stream",
     "text": [
      "Most popular occupation for individuals earning >50K in India:  Prof-specialty\n"
     ]
    }
   ],
   "source": [
    "# Filter the data for individuals earning >50K in India\n",
    "high_income_india = df[(df['nativecountry'] == ' India') & (df['over50k'] == ' >50K')]\n",
    "\n",
    "# Check if there are any records matching the filtering criteria\n",
    "if not high_income_india.empty:\n",
    "    # Find the most popular occupation\n",
    "    most_popular_occupation = high_income_india['occupation'].value_counts().idxmax()\n",
    "    print(\"Most popular occupation for individuals earning >50K in India:\", most_popular_occupation)\n",
    "else:\n",
    "    print(\"There are no individuals earning >50K in India in the dataset.\")"
   ]
  },
  {
   "cell_type": "code",
   "execution_count": null,
   "id": "6e09c685-d06f-4877-b8b0-b5b238756196",
   "metadata": {},
   "outputs": [],
   "source": []
  }
 ],
 "metadata": {
  "kernelspec": {
   "display_name": "Python 3 (ipykernel)",
   "language": "python",
   "name": "python3"
  },
  "language_info": {
   "codemirror_mode": {
    "name": "ipython",
    "version": 3
   },
   "file_extension": ".py",
   "mimetype": "text/x-python",
   "name": "python",
   "nbconvert_exporter": "python",
   "pygments_lexer": "ipython3",
   "version": "3.12.2"
  }
 },
 "nbformat": 4,
 "nbformat_minor": 5
}
